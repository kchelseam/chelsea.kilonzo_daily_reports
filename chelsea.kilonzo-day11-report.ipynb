{
 "cells": [
  {
   "cell_type": "markdown",
   "id": "946dcae8",
   "metadata": {},
   "source": [
    "# Practical_6: Numpy"
   ]
  },
  {
   "cell_type": "code",
   "execution_count": 1,
   "id": "4e5f4ff8-4171-4ea8-a49d-15b123ce3152",
   "metadata": {},
   "outputs": [],
   "source": [
    "import numpy as np"
   ]
  },
  {
   "cell_type": "markdown",
   "id": "1a9eda76-7e06-424c-8b9d-51749b8449e2",
   "metadata": {},
   "source": [
    "---\n",
    "\n",
    "### Exercise 1:\n",
    "Create a NumPy array of integers from 1 to 10.\n",
    "\n",
    "```python\n",
    "# Exercise 1\n",
    "```"
   ]
  },
  {
   "cell_type": "code",
   "execution_count": 13,
   "id": "09fd0cb7-a946-467b-be0f-31e684238e18",
   "metadata": {},
   "outputs": [
    {
     "data": {
      "text/plain": [
       "array([ 1,  2,  3,  4,  5,  6,  7,  8,  9, 10])"
      ]
     },
     "execution_count": 13,
     "metadata": {},
     "output_type": "execute_result"
    }
   ],
   "source": [
    "x = np.arange(1,11)\n",
    "x"
   ]
  },
  {
   "cell_type": "markdown",
   "id": "56fddd53-dd93-4d39-a86e-bf39694bb1a9",
   "metadata": {},
   "source": [
    "### Exercise 2:\n",
    "Create a 3x3 NumPy array filled with zeros.\n",
    "\n",
    "```python\n",
    "# Exercise 2\n",
    "```"
   ]
  },
  {
   "cell_type": "code",
   "execution_count": 19,
   "id": "a40e5e7a-690c-4cb3-8d68-b832b4041f5b",
   "metadata": {},
   "outputs": [
    {
     "data": {
      "text/plain": [
       "array([[0., 0., 0.],\n",
       "       [0., 0., 0.],\n",
       "       [0., 0., 0.]])"
      ]
     },
     "execution_count": 19,
     "metadata": {},
     "output_type": "execute_result"
    }
   ],
   "source": [
    "y = np.zeros((3,3))\n",
    "y"
   ]
  },
  {
   "cell_type": "markdown",
   "id": "59817df0-6f3f-4880-b1b7-51bb18daa5b3",
   "metadata": {},
   "source": [
    "### Exercise 3:\n",
    "Create a NumPy array of 10 evenly spaced numbers between 0 and 5.\n",
    "\n",
    "```python\n",
    "# Exercise 3\n",
    "```"
   ]
  },
  {
   "cell_type": "code",
   "execution_count": 33,
   "id": "19f0de8f-ac26-446c-99c1-c37ee6f16bfd",
   "metadata": {},
   "outputs": [
    {
     "data": {
      "text/plain": [
       "array([0. , 0.5, 1. , 1.5, 2. , 2.5, 3. , 3.5, 4. , 4.5])"
      ]
     },
     "execution_count": 33,
     "metadata": {},
     "output_type": "execute_result"
    }
   ],
   "source": [
    "z = np.linspace(0,5,10, endpoint = False)\n",
    "z"
   ]
  },
  {
   "cell_type": "markdown",
   "id": "db4dd502-5b59-487a-b233-9f8ddc160050",
   "metadata": {},
   "source": [
    "### Exercise 4:\n",
    "Create a 5x5 identity matrix using NumPy.\n",
    "\n",
    "```python\n",
    "# Exercise 4\n",
    "```"
   ]
  },
  {
   "cell_type": "code",
   "execution_count": 35,
   "id": "2ce7fe6b-55d1-4cf5-92ca-dad0f37a36c3",
   "metadata": {},
   "outputs": [
    {
     "data": {
      "text/plain": [
       "array([[1., 0., 0., 0., 0.],\n",
       "       [0., 1., 0., 0., 0.],\n",
       "       [0., 0., 1., 0., 0.],\n",
       "       [0., 0., 0., 1., 0.],\n",
       "       [0., 0., 0., 0., 1.]])"
      ]
     },
     "execution_count": 35,
     "metadata": {},
     "output_type": "execute_result"
    }
   ],
   "source": [
    "a = np.eye(5)\n",
    "a"
   ]
  },
  {
   "cell_type": "markdown",
   "id": "46a2e376-29b7-44ba-b03a-3a0171189489",
   "metadata": {},
   "source": [
    "### Exercise 5:\n",
    "Create a 4x4 matrix with random values between 0 and 1.\n",
    "\n",
    "```python\n",
    "# Exercise 5\n",
    "```"
   ]
  },
  {
   "cell_type": "code",
   "execution_count": 43,
   "id": "814f33aa-5c7e-47a0-ae4a-971d5ed0f93f",
   "metadata": {},
   "outputs": [
    {
     "data": {
      "text/plain": [
       "array([[0.97287352, 0.18475826, 0.84337712, 0.36771583],\n",
       "       [0.35741937, 0.61534169, 0.9173619 , 0.04720599],\n",
       "       [0.16536584, 0.20948086, 0.63668953, 0.21595701],\n",
       "       [0.74977675, 0.69667224, 0.6372795 , 0.25629931]])"
      ]
     },
     "execution_count": 43,
     "metadata": {},
     "output_type": "execute_result"
    }
   ],
   "source": [
    "b = np.random.random((4,4))\n",
    "b"
   ]
  },
  {
   "cell_type": "markdown",
   "id": "0f67db71-a447-45f1-b899-ea8a8b92baba",
   "metadata": {},
   "source": [
    "### Exercise 6:\n",
    "Find the shape of a NumPy array.\n",
    "\n",
    "```python\n",
    "# Exercise 6\n",
    "```"
   ]
  },
  {
   "cell_type": "code",
   "execution_count": 45,
   "id": "2e28d584-bd7d-42f8-86d3-26aa005e75c9",
   "metadata": {},
   "outputs": [
    {
     "data": {
      "text/plain": [
       "(4, 4)"
      ]
     },
     "execution_count": 45,
     "metadata": {},
     "output_type": "execute_result"
    }
   ],
   "source": [
    "np.shape(b)"
   ]
  },
  {
   "cell_type": "markdown",
   "id": "c6a11444-2de3-48bc-a13a-c865a65e4346",
   "metadata": {},
   "source": [
    "### Exercise 7:\n",
    "Reshape a 1D NumPy array of 16 elements into a 4x4 matrix.\n",
    "\n",
    "```python\n",
    "# Exercise 7\n",
    "```"
   ]
  },
  {
   "cell_type": "code",
   "execution_count": 56,
   "id": "a1acecf5-9f21-47ab-a9c2-e6dbc13fc877",
   "metadata": {},
   "outputs": [
    {
     "data": {
      "text/plain": [
       "array([[ 0,  1,  2,  3],\n",
       "       [ 4,  5,  6,  7],\n",
       "       [ 8,  9, 10, 11],\n",
       "       [12, 13, 14, 15]])"
      ]
     },
     "execution_count": 56,
     "metadata": {},
     "output_type": "execute_result"
    }
   ],
   "source": [
    "c1 = np.arange(16)\n",
    "np.reshape(c1,(4,4))"
   ]
  },
  {
   "cell_type": "code",
   "execution_count": 48,
   "id": "d844bf99-8d07-4d95-951d-126d4d878ff5",
   "metadata": {
    "scrolled": true
   },
   "outputs": [
    {
     "name": "stdout",
     "output_type": "stream",
     "text": [
      "Help on _ArrayFunctionDispatcher in module numpy:\n",
      "\n",
      "reshape(a, newshape, order='C')\n",
      "    Gives a new shape to an array without changing its data.\n",
      "\n",
      "    Parameters\n",
      "    ----------\n",
      "    a : array_like\n",
      "        Array to be reshaped.\n",
      "    newshape : int or tuple of ints\n",
      "        The new shape should be compatible with the original shape. If\n",
      "        an integer, then the result will be a 1-D array of that length.\n",
      "        One shape dimension can be -1. In this case, the value is\n",
      "        inferred from the length of the array and remaining dimensions.\n",
      "    order : {'C', 'F', 'A'}, optional\n",
      "        Read the elements of `a` using this index order, and place the\n",
      "        elements into the reshaped array using this index order.  'C'\n",
      "        means to read / write the elements using C-like index order,\n",
      "        with the last axis index changing fastest, back to the first\n",
      "        axis index changing slowest. 'F' means to read / write the\n",
      "        elements using Fortran-like index order, with the first index\n",
      "        changing fastest, and the last index changing slowest. Note that\n",
      "        the 'C' and 'F' options take no account of the memory layout of\n",
      "        the underlying array, and only refer to the order of indexing.\n",
      "        'A' means to read / write the elements in Fortran-like index\n",
      "        order if `a` is Fortran *contiguous* in memory, C-like order\n",
      "        otherwise.\n",
      "\n",
      "    Returns\n",
      "    -------\n",
      "    reshaped_array : ndarray\n",
      "        This will be a new view object if possible; otherwise, it will\n",
      "        be a copy.  Note there is no guarantee of the *memory layout* (C- or\n",
      "        Fortran- contiguous) of the returned array.\n",
      "\n",
      "    See Also\n",
      "    --------\n",
      "    ndarray.reshape : Equivalent method.\n",
      "\n",
      "    Notes\n",
      "    -----\n",
      "    It is not always possible to change the shape of an array without copying\n",
      "    the data.\n",
      "\n",
      "    The `order` keyword gives the index ordering both for *fetching* the values\n",
      "    from `a`, and then *placing* the values into the output array.\n",
      "    For example, let's say you have an array:\n",
      "\n",
      "    >>> a = np.arange(6).reshape((3, 2))\n",
      "    >>> a\n",
      "    array([[0, 1],\n",
      "           [2, 3],\n",
      "           [4, 5]])\n",
      "\n",
      "    You can think of reshaping as first raveling the array (using the given\n",
      "    index order), then inserting the elements from the raveled array into the\n",
      "    new array using the same kind of index ordering as was used for the\n",
      "    raveling.\n",
      "\n",
      "    >>> np.reshape(a, (2, 3)) # C-like index ordering\n",
      "    array([[0, 1, 2],\n",
      "           [3, 4, 5]])\n",
      "    >>> np.reshape(np.ravel(a), (2, 3)) # equivalent to C ravel then C reshape\n",
      "    array([[0, 1, 2],\n",
      "           [3, 4, 5]])\n",
      "    >>> np.reshape(a, (2, 3), order='F') # Fortran-like index ordering\n",
      "    array([[0, 4, 3],\n",
      "           [2, 1, 5]])\n",
      "    >>> np.reshape(np.ravel(a, order='F'), (2, 3), order='F')\n",
      "    array([[0, 4, 3],\n",
      "           [2, 1, 5]])\n",
      "\n",
      "    Examples\n",
      "    --------\n",
      "    >>> a = np.array([[1,2,3], [4,5,6]])\n",
      "    >>> np.reshape(a, 6)\n",
      "    array([1, 2, 3, 4, 5, 6])\n",
      "    >>> np.reshape(a, 6, order='F')\n",
      "    array([1, 4, 2, 5, 3, 6])\n",
      "\n",
      "    >>> np.reshape(a, (3,-1))       # the unspecified value is inferred to be 2\n",
      "    array([[1, 2],\n",
      "           [3, 4],\n",
      "           [5, 6]])\n",
      "\n"
     ]
    }
   ],
   "source": [
    "help(np.reshape)"
   ]
  },
  {
   "cell_type": "code",
   "execution_count": 58,
   "id": "de77ad8f-dff5-4688-a952-f4036eed420e",
   "metadata": {},
   "outputs": [
    {
     "data": {
      "text/plain": [
       "array([[ 0,  1,  2,  3],\n",
       "       [ 4,  5,  6,  7],\n",
       "       [ 8,  9, 10, 11],\n",
       "       [12, 13, 14, 15]])"
      ]
     },
     "execution_count": 58,
     "metadata": {},
     "output_type": "execute_result"
    }
   ],
   "source": [
    "c2 = np.arange(16).reshape((4,4))\n",
    "c2"
   ]
  },
  {
   "cell_type": "markdown",
   "id": "9536b572-a657-4ebe-bf9c-ec0676758b36",
   "metadata": {},
   "source": [
    "### Exercise 8:\n",
    "Find the data type of the elements in a NumPy array.\n",
    "\n",
    "```python\n",
    "# Exercise 8\n",
    "```"
   ]
  },
  {
   "cell_type": "code",
   "execution_count": 70,
   "id": "520316d5-9ee7-4d4b-a6cf-0e7f15e65610",
   "metadata": {},
   "outputs": [
    {
     "data": {
      "text/plain": [
       "dtype('int32')"
      ]
     },
     "execution_count": 70,
     "metadata": {},
     "output_type": "execute_result"
    }
   ],
   "source": [
    "c2.dtype"
   ]
  },
  {
   "cell_type": "markdown",
   "id": "8dd21bde-bb0d-41da-add3-6ac25f35c4f1",
   "metadata": {},
   "source": [
    "### Exercise 9:\n",
    "Create a NumPy array of integers from 1 to 100 and find all even numbers in the array.\n",
    "\n",
    "```python\n",
    "# Exercise 9\n",
    "```"
   ]
  },
  {
   "cell_type": "code",
   "execution_count": 78,
   "id": "39907098-f3f0-4cc2-a81f-ea39f3c51aa0",
   "metadata": {},
   "outputs": [
    {
     "data": {
      "text/plain": [
       "array([  1,   2,   3,   4,   5,   6,   7,   8,   9,  10,  11,  12,  13,\n",
       "        14,  15,  16,  17,  18,  19,  20,  21,  22,  23,  24,  25,  26,\n",
       "        27,  28,  29,  30,  31,  32,  33,  34,  35,  36,  37,  38,  39,\n",
       "        40,  41,  42,  43,  44,  45,  46,  47,  48,  49,  50,  51,  52,\n",
       "        53,  54,  55,  56,  57,  58,  59,  60,  61,  62,  63,  64,  65,\n",
       "        66,  67,  68,  69,  70,  71,  72,  73,  74,  75,  76,  77,  78,\n",
       "        79,  80,  81,  82,  83,  84,  85,  86,  87,  88,  89,  90,  91,\n",
       "        92,  93,  94,  95,  96,  97,  98,  99, 100])"
      ]
     },
     "execution_count": 78,
     "metadata": {},
     "output_type": "execute_result"
    }
   ],
   "source": [
    "d = np.arange(1, 101)\n",
    "d"
   ]
  },
  {
   "cell_type": "code",
   "execution_count": 93,
   "id": "96d56a56-7431-457d-b0c3-50620739bef7",
   "metadata": {},
   "outputs": [
    {
     "data": {
      "text/plain": [
       "array([  2,   4,   6,   8,  10,  12,  14,  16,  18,  20,  22,  24,  26,\n",
       "        28,  30,  32,  34,  36,  38,  40,  42,  44,  46,  48,  50,  52,\n",
       "        54,  56,  58,  60,  62,  64,  66,  68,  70,  72,  74,  76,  78,\n",
       "        80,  82,  84,  86,  88,  90,  92,  94,  96,  98, 100])"
      ]
     },
     "execution_count": 93,
     "metadata": {},
     "output_type": "execute_result"
    }
   ],
   "source": [
    "even_d = (d%2==0) #create  a mask\n",
    "d[even_d] #obtain values of d that are true in the mask"
   ]
  },
  {
   "cell_type": "markdown",
   "id": "2727654b-102e-4f98-a589-59d167ee4ad3",
   "metadata": {},
   "source": [
    "### Exercise 10:\n",
    "Generate a 6x6 matrix of random integers between 10 and 50.\n",
    "\n",
    "```python\n",
    "# Exercise 10\n",
    "```"
   ]
  },
  {
   "cell_type": "code",
   "execution_count": 124,
   "id": "9f1f545f-ddf6-40a1-a538-d35fb1ec9356",
   "metadata": {},
   "outputs": [
    {
     "data": {
      "text/plain": [
       "array([[45, 26, 14, 10, 19, 36],\n",
       "       [18, 34, 30, 21, 26, 35],\n",
       "       [30, 42, 38, 25, 24, 27],\n",
       "       [25, 49, 48, 37, 26, 18],\n",
       "       [20, 46, 28, 43, 35, 40],\n",
       "       [23, 45, 30, 46, 49, 30]])"
      ]
     },
     "execution_count": 124,
     "metadata": {},
     "output_type": "execute_result"
    }
   ],
   "source": [
    "e = np.random.randint(10, 50, (6,6))\n",
    "e"
   ]
  },
  {
   "cell_type": "markdown",
   "id": "002fb46e-e070-4ce7-a781-3e9820d4ccee",
   "metadata": {},
   "source": [
    "### Exercise 11:\n",
    "Slice a 2D NumPy array to extract a submatrix.\n",
    "\n",
    "```python\n",
    "# Exercise 11\n",
    "```"
   ]
  },
  {
   "cell_type": "code",
   "execution_count": 116,
   "id": "0a8f5b81-4b89-4314-937e-99ea1e5104df",
   "metadata": {},
   "outputs": [
    {
     "data": {
      "text/plain": [
       "array([[25, 33, 25, 12, 12, 19],\n",
       "       [39, 31, 26, 39, 40, 16]])"
      ]
     },
     "execution_count": 116,
     "metadata": {},
     "output_type": "execute_result"
    }
   ],
   "source": [
    "e[2:4,]"
   ]
  },
  {
   "cell_type": "markdown",
   "id": "4d8da2d6-8bc1-458f-bbdc-31d0ec1beff4",
   "metadata": {},
   "source": [
    "### Exercise 12:\n",
    "Calculate the sum of all elements in a NumPy array.\n",
    "\n",
    "```python\n",
    "# Exercise 12\n",
    "```"
   ]
  },
  {
   "cell_type": "code",
   "execution_count": 108,
   "id": "e5fdd7f4-3e56-46bc-9e04-998e8ad9048e",
   "metadata": {},
   "outputs": [
    {
     "data": {
      "text/plain": [
       "1072"
      ]
     },
     "execution_count": 108,
     "metadata": {},
     "output_type": "execute_result"
    }
   ],
   "source": [
    "np.sum(e)"
   ]
  },
  {
   "cell_type": "markdown",
   "id": "abea1850-8be2-4b3d-8cd2-372424b49319",
   "metadata": {},
   "source": [
    "### Exercise 13:\n",
    "Calculate the mean, median, and standard deviation of a NumPy array.\n",
    "\n",
    "```python\n",
    "# Exercise 13\n",
    "```"
   ]
  },
  {
   "cell_type": "code",
   "execution_count": 130,
   "id": "dec63393-8c41-4a6e-b085-c54da91e6348",
   "metadata": {},
   "outputs": [
    {
     "data": {
      "text/plain": [
       "array([[45, 26, 14, 10, 19, 36],\n",
       "       [18, 34, 30, 21, 26, 35],\n",
       "       [30, 42, 38, 25, 24, 27],\n",
       "       [25, 49, 48, 37, 26, 18],\n",
       "       [20, 46, 28, 43, 35, 40],\n",
       "       [23, 45, 30, 46, 49, 30]])"
      ]
     },
     "execution_count": 130,
     "metadata": {},
     "output_type": "execute_result"
    }
   ],
   "source": [
    "e"
   ]
  },
  {
   "cell_type": "code",
   "execution_count": 136,
   "id": "f907f77e-d492-4f34-a99a-e5620f211bcd",
   "metadata": {},
   "outputs": [
    {
     "data": {
      "text/plain": [
       "array([[ 0,  1,  2,  3],\n",
       "       [ 4,  5,  6,  7],\n",
       "       [ 8,  9, 10, 11],\n",
       "       [12, 13, 14, 15]])"
      ]
     },
     "execution_count": 136,
     "metadata": {},
     "output_type": "execute_result"
    }
   ],
   "source": [
    "c"
   ]
  },
  {
   "cell_type": "code",
   "execution_count": 138,
   "id": "825b3bd2-af2d-4bb0-b883-db64aebd1080",
   "metadata": {},
   "outputs": [
    {
     "name": "stdout",
     "output_type": "stream",
     "text": [
      "31.61111111111111\n",
      "7.5\n"
     ]
    }
   ],
   "source": [
    "print(np.mean(e))\n",
    "print(np.mean(c))"
   ]
  },
  {
   "cell_type": "code",
   "execution_count": 140,
   "id": "bb19d059-b6ad-43d2-b2c6-093ff435ce3d",
   "metadata": {},
   "outputs": [
    {
     "name": "stdout",
     "output_type": "stream",
     "text": [
      "30.0\n",
      "7.5\n"
     ]
    }
   ],
   "source": [
    "print(np.median(e))\n",
    "print(np.median(c))"
   ]
  },
  {
   "cell_type": "code",
   "execution_count": 142,
   "id": "32ab64ec-b80a-4690-a82f-38849d1b6b18",
   "metadata": {},
   "outputs": [
    {
     "name": "stdout",
     "output_type": "stream",
     "text": [
      "10.52055601027969\n",
      "4.6097722286464435\n"
     ]
    }
   ],
   "source": [
    "print(np.std(e))\n",
    "print(np.std(c))"
   ]
  },
  {
   "cell_type": "markdown",
   "id": "7b3c05c3-a6e2-45f7-ae6a-f0f3cc631877",
   "metadata": {},
   "source": [
    "### Exercise 14:\n",
    "Find the maximum and minimum values in a NumPy array.\n",
    "\n",
    "```python\n",
    "# Exercise 14\n",
    "```"
   ]
  },
  {
   "cell_type": "code",
   "execution_count": 150,
   "id": "56821bec-6ab3-4245-b204-a9edbfa8d2c3",
   "metadata": {},
   "outputs": [
    {
     "data": {
      "text/plain": [
       "array([[45, 26, 14, 10, 19, 36],\n",
       "       [18, 34, 30, 21, 26, 35],\n",
       "       [30, 42, 38, 25, 24, 27],\n",
       "       [25, 49, 48, 37, 26, 18],\n",
       "       [20, 46, 28, 43, 35, 40],\n",
       "       [23, 45, 30, 46, 49, 30]])"
      ]
     },
     "execution_count": 150,
     "metadata": {},
     "output_type": "execute_result"
    }
   ],
   "source": [
    "e"
   ]
  },
  {
   "cell_type": "code",
   "execution_count": 156,
   "id": "206736b1-9942-4259-8081-76d719f4c6fb",
   "metadata": {},
   "outputs": [
    {
     "name": "stdout",
     "output_type": "stream",
     "text": [
      "49\n",
      "10\n"
     ]
    }
   ],
   "source": [
    "print(np.max(e))\n",
    "print(np.min(e))"
   ]
  },
  {
   "cell_type": "code",
   "execution_count": 146,
   "id": "1d979f4a-40fa-4dc7-ad0a-83d13f0f8e3d",
   "metadata": {},
   "outputs": [
    {
     "name": "stdout",
     "output_type": "stream",
     "text": [
      "Help on _ArrayFunctionDispatcher in module numpy:\n",
      "\n",
      "max(a, axis=None, out=None, keepdims=<no value>, initial=<no value>, where=<no value>)\n",
      "    Return the maximum of an array or maximum along an axis.\n",
      "\n",
      "    Parameters\n",
      "    ----------\n",
      "    a : array_like\n",
      "        Input data.\n",
      "    axis : None or int or tuple of ints, optional\n",
      "        Axis or axes along which to operate.  By default, flattened input is\n",
      "        used.\n",
      "\n",
      "        .. versionadded:: 1.7.0\n",
      "\n",
      "        If this is a tuple of ints, the maximum is selected over multiple axes,\n",
      "        instead of a single axis or all the axes as before.\n",
      "    out : ndarray, optional\n",
      "        Alternative output array in which to place the result.  Must\n",
      "        be of the same shape and buffer length as the expected output.\n",
      "        See :ref:`ufuncs-output-type` for more details.\n",
      "\n",
      "    keepdims : bool, optional\n",
      "        If this is set to True, the axes which are reduced are left\n",
      "        in the result as dimensions with size one. With this option,\n",
      "        the result will broadcast correctly against the input array.\n",
      "\n",
      "        If the default value is passed, then `keepdims` will not be\n",
      "        passed through to the ``max`` method of sub-classes of\n",
      "        `ndarray`, however any non-default value will be.  If the\n",
      "        sub-class' method does not implement `keepdims` any\n",
      "        exceptions will be raised.\n",
      "\n",
      "    initial : scalar, optional\n",
      "        The minimum value of an output element. Must be present to allow\n",
      "        computation on empty slice. See `~numpy.ufunc.reduce` for details.\n",
      "\n",
      "        .. versionadded:: 1.15.0\n",
      "\n",
      "    where : array_like of bool, optional\n",
      "        Elements to compare for the maximum. See `~numpy.ufunc.reduce`\n",
      "        for details.\n",
      "\n",
      "        .. versionadded:: 1.17.0\n",
      "\n",
      "    Returns\n",
      "    -------\n",
      "    max : ndarray or scalar\n",
      "        Maximum of `a`. If `axis` is None, the result is a scalar value.\n",
      "        If `axis` is an int, the result is an array of dimension\n",
      "        ``a.ndim - 1``. If `axis` is a tuple, the result is an array of\n",
      "        dimension ``a.ndim - len(axis)``.\n",
      "\n",
      "    See Also\n",
      "    --------\n",
      "    amin :\n",
      "        The minimum value of an array along a given axis, propagating any NaNs.\n",
      "    nanmax :\n",
      "        The maximum value of an array along a given axis, ignoring any NaNs.\n",
      "    maximum :\n",
      "        Element-wise maximum of two arrays, propagating any NaNs.\n",
      "    fmax :\n",
      "        Element-wise maximum of two arrays, ignoring any NaNs.\n",
      "    argmax :\n",
      "        Return the indices of the maximum values.\n",
      "\n",
      "    nanmin, minimum, fmin\n",
      "\n",
      "    Notes\n",
      "    -----\n",
      "    NaN values are propagated, that is if at least one item is NaN, the\n",
      "    corresponding max value will be NaN as well. To ignore NaN values\n",
      "    (MATLAB behavior), please use nanmax.\n",
      "\n",
      "    Don't use `~numpy.max` for element-wise comparison of 2 arrays; when\n",
      "    ``a.shape[0]`` is 2, ``maximum(a[0], a[1])`` is faster than\n",
      "    ``max(a, axis=0)``.\n",
      "\n",
      "    Examples\n",
      "    --------\n",
      "    >>> a = np.arange(4).reshape((2,2))\n",
      "    >>> a\n",
      "    array([[0, 1],\n",
      "           [2, 3]])\n",
      "    >>> np.max(a)           # Maximum of the flattened array\n",
      "    3\n",
      "    >>> np.max(a, axis=0)   # Maxima along the first axis\n",
      "    array([2, 3])\n",
      "    >>> np.max(a, axis=1)   # Maxima along the second axis\n",
      "    array([1, 3])\n",
      "    >>> np.max(a, where=[False, True], initial=-1, axis=0)\n",
      "    array([-1,  3])\n",
      "    >>> b = np.arange(5, dtype=float)\n",
      "    >>> b[2] = np.NaN\n",
      "    >>> np.max(b)\n",
      "    nan\n",
      "    >>> np.max(b, where=~np.isnan(b), initial=-1)\n",
      "    4.0\n",
      "    >>> np.nanmax(b)\n",
      "    4.0\n",
      "\n",
      "    You can use an initial value to compute the maximum of an empty slice, or\n",
      "    to initialize it to a different value:\n",
      "\n",
      "    >>> np.max([[-50], [10]], axis=-1, initial=0)\n",
      "    array([ 0, 10])\n",
      "\n",
      "    Notice that the initial value is used as one of the elements for which the\n",
      "    maximum is determined, unlike for the default argument Python's max\n",
      "    function, which is only used for empty iterables.\n",
      "\n",
      "    >>> np.max([5], initial=6)\n",
      "    6\n",
      "    >>> max([5], default=6)\n",
      "    5\n",
      "\n"
     ]
    }
   ],
   "source": [
    "help(np.max)"
   ]
  },
  {
   "cell_type": "code",
   "execution_count": 164,
   "id": "002af5a3-12e3-4a81-872e-c837640063cf",
   "metadata": {},
   "outputs": [
    {
     "name": "stdout",
     "output_type": "stream",
     "text": [
      "[45 49 48 46 49 40]\n",
      "[18 26 14 10 19 18]\n"
     ]
    }
   ],
   "source": [
    "print(np.max(e, axis=0)) #gives the maximum of each column, i.e axis 0\n",
    "print(np.min(e, axis=0)) #gives the minimum of each column, i.e axis 0"
   ]
  },
  {
   "cell_type": "code",
   "execution_count": 166,
   "id": "dfd546a5-d5c1-4c99-bc87-5e7f7d9f2401",
   "metadata": {},
   "outputs": [
    {
     "name": "stdout",
     "output_type": "stream",
     "text": [
      "[45 35 42 49 46 49]\n",
      "[10 18 24 18 20 23]\n"
     ]
    }
   ],
   "source": [
    "print(np.max(e, axis=1)) #gives the maximum of each row, i.e axis 1\n",
    "print(np.min(e, axis=1)) # gives the minimum of each row, i.e axis 1"
   ]
  },
  {
   "cell_type": "markdown",
   "id": "2f67c06a-6f3f-4f33-9395-428ed1a21e37",
   "metadata": {},
   "source": [
    "### Exercise 15:\n",
    "Create a NumPy array of 20 random integers and find the index of the maximum value.\n",
    "\n",
    "```python\n",
    "# Exercise 15\n",
    "```"
   ]
  },
  {
   "cell_type": "code",
   "execution_count": 182,
   "id": "00084306-8a91-401e-978c-c4e6923679f5",
   "metadata": {},
   "outputs": [
    {
     "name": "stdout",
     "output_type": "stream",
     "text": [
      "[[ 2  2  1  9  0  9 19 19 18 10  6 18  0 13  1  2 19 13  1  1]]\n",
      "19\n"
     ]
    }
   ],
   "source": [
    "f = np.random.randint(20, size = (1,20))\n",
    "print(f)\n",
    "print(np.max(f))"
   ]
  },
  {
   "cell_type": "markdown",
   "id": "ca8c0cf2-a94d-4aa3-bb15-eb5c61b8f83c",
   "metadata": {},
   "source": [
    "### Exercise 16:\n",
    "Create a NumPy array and reverse its elements.\n",
    "\n",
    "```python\n",
    "# Exercise 16\n",
    "```"
   ]
  },
  {
   "cell_type": "code",
   "execution_count": 418,
   "id": "89f1e709-4ffa-4eb4-8fbd-971ff8c388cf",
   "metadata": {},
   "outputs": [
    {
     "data": {
      "text/plain": [
       "array([[ 2,  2,  1,  9,  0,  9, 19, 19, 18, 10,  6, 18,  0, 13,  1,  2,\n",
       "        19, 13,  1,  1]])"
      ]
     },
     "execution_count": 418,
     "metadata": {},
     "output_type": "execute_result"
    }
   ],
   "source": [
    "f"
   ]
  },
  {
   "cell_type": "code",
   "execution_count": 416,
   "id": "a887f686-049f-4565-acc0-3982b1349af5",
   "metadata": {},
   "outputs": [
    {
     "data": {
      "text/plain": [
       "array([[ 1,  1, 13, 19,  2,  1, 13,  0, 18,  6, 10, 18, 19, 19,  9,  0,\n",
       "         9,  1,  2,  2]])"
      ]
     },
     "execution_count": 416,
     "metadata": {},
     "output_type": "execute_result"
    }
   ],
   "source": [
    "np.flip(f)"
   ]
  },
  {
   "cell_type": "markdown",
   "id": "c0418d52-4507-42fe-bcdb-39eb3e6231cd",
   "metadata": {},
   "source": [
    "### Exercise 17:\n",
    "Create a 3x3 matrix and multiply it element-wise by another 3x3 matrix.\n",
    "\n",
    "```python\n",
    "# Exercise 17\n",
    "```"
   ]
  },
  {
   "cell_type": "code",
   "execution_count": 214,
   "id": "532c2d32-1db8-42db-b383-da098ff6214b",
   "metadata": {},
   "outputs": [
    {
     "data": {
      "text/plain": [
       "array([[7, 3, 7],\n",
       "       [8, 5, 2],\n",
       "       [8, 1, 3]])"
      ]
     },
     "execution_count": 214,
     "metadata": {},
     "output_type": "execute_result"
    }
   ],
   "source": [
    "g = np.random.randint(1, 9,(3,3))\n",
    "g"
   ]
  },
  {
   "cell_type": "code",
   "execution_count": 216,
   "id": "796c6721-9dd8-485b-89cb-085928b467df",
   "metadata": {},
   "outputs": [
    {
     "data": {
      "text/plain": [
       "array([[0, 1, 2],\n",
       "       [3, 4, 5],\n",
       "       [6, 7, 8]])"
      ]
     },
     "execution_count": 216,
     "metadata": {},
     "output_type": "execute_result"
    }
   ],
   "source": [
    "h = np.arange(9).reshape(3,3)\n",
    "h"
   ]
  },
  {
   "cell_type": "code",
   "execution_count": 230,
   "id": "ca7a6b26-4fb7-437a-809f-1189155d9407",
   "metadata": {},
   "outputs": [
    {
     "data": {
      "text/plain": [
       "array([[ 0,  3, 14],\n",
       "       [24, 20, 10],\n",
       "       [48,  7, 24]])"
      ]
     },
     "execution_count": 230,
     "metadata": {},
     "output_type": "execute_result"
    }
   ],
   "source": [
    "g*h"
   ]
  },
  {
   "cell_type": "code",
   "execution_count": 224,
   "id": "a0984098-681c-4d74-8beb-67929f777c42",
   "metadata": {},
   "outputs": [
    {
     "name": "stdout",
     "output_type": "stream",
     "text": [
      "Help on _ArrayFunctionDispatcher in module numpy:\n",
      "\n",
      "product(*args, **kwargs)\n",
      "    Return the product of array elements over a given axis.\n",
      "\n",
      "    .. deprecated:: 1.25.0\n",
      "        ``product`` is deprecated as of NumPy 1.25.0, and will be\n",
      "        removed in NumPy 2.0. Please use `prod` instead.\n",
      "\n",
      "    See Also\n",
      "    --------\n",
      "    prod : equivalent function; see for details.\n",
      "\n"
     ]
    }
   ],
   "source": [
    "help(np.product)"
   ]
  },
  {
   "cell_type": "markdown",
   "id": "a7eebf70-d6cd-476d-8f5d-3f2f8ae99da6",
   "metadata": {},
   "source": [
    "### Exercise 18:\n",
    "Create a diagonal matrix from a given 1D array.\n",
    "\n",
    "```python\n",
    "# Exercise 18\n",
    "```"
   ]
  },
  {
   "cell_type": "code",
   "execution_count": 228,
   "id": "d7d8c907-4f6a-43e9-ace7-6e9b85a471b2",
   "metadata": {},
   "outputs": [
    {
     "data": {
      "text/plain": [
       "array([ 1,  2,  3,  4,  5,  6,  7,  8,  9, 10])"
      ]
     },
     "execution_count": 228,
     "metadata": {},
     "output_type": "execute_result"
    }
   ],
   "source": [
    "x"
   ]
  },
  {
   "cell_type": "code",
   "execution_count": 226,
   "id": "a15b0935-bf42-473c-810f-85f7c61a0f19",
   "metadata": {},
   "outputs": [
    {
     "data": {
      "text/plain": [
       "array([[ 1,  0,  0,  0,  0,  0,  0,  0,  0,  0],\n",
       "       [ 0,  2,  0,  0,  0,  0,  0,  0,  0,  0],\n",
       "       [ 0,  0,  3,  0,  0,  0,  0,  0,  0,  0],\n",
       "       [ 0,  0,  0,  4,  0,  0,  0,  0,  0,  0],\n",
       "       [ 0,  0,  0,  0,  5,  0,  0,  0,  0,  0],\n",
       "       [ 0,  0,  0,  0,  0,  6,  0,  0,  0,  0],\n",
       "       [ 0,  0,  0,  0,  0,  0,  7,  0,  0,  0],\n",
       "       [ 0,  0,  0,  0,  0,  0,  0,  8,  0,  0],\n",
       "       [ 0,  0,  0,  0,  0,  0,  0,  0,  9,  0],\n",
       "       [ 0,  0,  0,  0,  0,  0,  0,  0,  0, 10]])"
      ]
     },
     "execution_count": 226,
     "metadata": {},
     "output_type": "execute_result"
    }
   ],
   "source": [
    "np.diag(x)"
   ]
  },
  {
   "cell_type": "markdown",
   "id": "a2ac4624-f5f1-4e8a-8452-1aa657c34c4a",
   "metadata": {},
   "source": [
    "### Exercise 19:\n",
    "Perform matrix multiplication on two 2D NumPy arrays.\n",
    "\n",
    "```python\n",
    "# Exercise 19\n",
    "```"
   ]
  },
  {
   "cell_type": "code",
   "execution_count": 239,
   "id": "17aff35a-dd6e-4793-b8d7-be36c57ba722",
   "metadata": {},
   "outputs": [
    {
     "name": "stdout",
     "output_type": "stream",
     "text": [
      "[[19  3  2  7]\n",
      " [ 7 13 15 12]\n",
      " [ 3 12  1 18]\n",
      " [ 6  9  4 12]]\n",
      "[[7 6]\n",
      " [6 1]\n",
      " [3 6]\n",
      " [2 1]]\n"
     ]
    }
   ],
   "source": [
    "i = np.random.randint(1,20, (4,4))\n",
    "j = np.random.randint(1,8,(4,2))\n",
    "print(i)\n",
    "print(j)"
   ]
  },
  {
   "cell_type": "code",
   "execution_count": 243,
   "id": "26208026-805c-4bb6-ad5e-3ad866183642",
   "metadata": {},
   "outputs": [
    {
     "data": {
      "text/plain": [
       "array([[171, 136],\n",
       "       [196, 157],\n",
       "       [132,  54],\n",
       "       [132,  81]])"
      ]
     },
     "execution_count": 243,
     "metadata": {},
     "output_type": "execute_result"
    }
   ],
   "source": [
    "np.dot(i, j)"
   ]
  },
  {
   "cell_type": "markdown",
   "id": "07d32718-d387-4031-97ef-5188967d908b",
   "metadata": {},
   "source": [
    "### Exercise 20:\n",
    "Flatten a 2D NumPy array into a 1D array.\n",
    "\n",
    "```python\n",
    "# Exercise 20\n",
    "```"
   ]
  },
  {
   "cell_type": "code",
   "execution_count": 262,
   "id": "56980f6b-3fdf-49ed-8024-577767b21b2e",
   "metadata": {},
   "outputs": [
    {
     "data": {
      "text/plain": [
       "array([19,  3,  2,  7,  7, 13, 15, 12,  3, 12,  1, 18,  6,  9,  4, 12])"
      ]
     },
     "execution_count": 262,
     "metadata": {},
     "output_type": "execute_result"
    }
   ],
   "source": [
    "np.ndarray.flatten(i) #default order is C"
   ]
  },
  {
   "cell_type": "code",
   "execution_count": 266,
   "id": "6eb2edf9-c50c-4e9d-be87-4a1f7571be5e",
   "metadata": {},
   "outputs": [
    {
     "data": {
      "text/plain": [
       "array([19,  7,  3,  6,  3, 13, 12,  9,  2, 15,  1,  4,  7, 12, 18, 12])"
      ]
     },
     "execution_count": 266,
     "metadata": {},
     "output_type": "execute_result"
    }
   ],
   "source": [
    "np.ndarray.flatten(i, order = 'F')"
   ]
  },
  {
   "cell_type": "code",
   "execution_count": 268,
   "id": "cd3f9e83-75d0-490e-8664-9b36b7e34d39",
   "metadata": {},
   "outputs": [
    {
     "data": {
      "text/plain": [
       "array([19,  3,  2,  7,  7, 13, 15, 12,  3, 12,  1, 18,  6,  9,  4, 12])"
      ]
     },
     "execution_count": 268,
     "metadata": {},
     "output_type": "execute_result"
    }
   ],
   "source": [
    "np.ndarray.flatten(i, order = 'A')"
   ]
  },
  {
   "cell_type": "code",
   "execution_count": 270,
   "id": "f32dbc3d-0391-4a7d-8b1f-affa29bd8502",
   "metadata": {},
   "outputs": [
    {
     "data": {
      "text/plain": [
       "array([19,  3,  2,  7,  7, 13, 15, 12,  3, 12,  1, 18,  6,  9,  4, 12])"
      ]
     },
     "execution_count": 270,
     "metadata": {},
     "output_type": "execute_result"
    }
   ],
   "source": [
    "np.ndarray.flatten(i, order = 'K')"
   ]
  },
  {
   "cell_type": "code",
   "execution_count": 272,
   "id": "38837966-f664-4ad2-8185-b24dffbeaa52",
   "metadata": {},
   "outputs": [
    {
     "data": {
      "text/plain": [
       "array([19,  3,  2,  7,  7, 13, 15, 12,  3, 12,  1, 18,  6,  9,  4, 12])"
      ]
     },
     "execution_count": 272,
     "metadata": {},
     "output_type": "execute_result"
    }
   ],
   "source": [
    "np.ndarray.flatten(i, order = 'C')"
   ]
  },
  {
   "cell_type": "markdown",
   "id": "20c3e928-47ef-4f44-b1ba-47283bf03352",
   "metadata": {},
   "source": [
    "### Exercise 21:\n",
    "Stack two NumPy arrays vertically.\n",
    "\n",
    "```python\n",
    "# Exercise 21\n",
    "```"
   ]
  },
  {
   "cell_type": "code",
   "execution_count": 290,
   "id": "85aabb97-429e-4a22-9dcc-d3cede3048b1",
   "metadata": {},
   "outputs": [
    {
     "data": {
      "text/plain": [
       "array([[[ 0.97287352,  0.18475826,  0.84337712,  0.36771583],\n",
       "        [ 0.35741937,  0.61534169,  0.9173619 ,  0.04720599],\n",
       "        [ 0.16536584,  0.20948086,  0.63668953,  0.21595701],\n",
       "        [ 0.74977675,  0.69667224,  0.6372795 ,  0.25629931]],\n",
       "\n",
       "       [[ 0.        ,  1.        ,  2.        ,  3.        ],\n",
       "        [ 4.        ,  5.        ,  6.        ,  7.        ],\n",
       "        [ 8.        ,  9.        , 10.        , 11.        ],\n",
       "        [12.        , 13.        , 14.        , 15.        ]]])"
      ]
     },
     "execution_count": 290,
     "metadata": {},
     "output_type": "execute_result"
    }
   ],
   "source": [
    "np.stack((b,c2), axis = 0) #stack by row by specifying axis = 0"
   ]
  },
  {
   "cell_type": "code",
   "execution_count": 292,
   "id": "2980c8bd-5a07-49b0-a7e1-0894876b2ceb",
   "metadata": {},
   "outputs": [
    {
     "data": {
      "text/plain": [
       "array([[[ 0.97287352,  0.        ],\n",
       "        [ 0.18475826,  1.        ],\n",
       "        [ 0.84337712,  2.        ],\n",
       "        [ 0.36771583,  3.        ]],\n",
       "\n",
       "       [[ 0.35741937,  4.        ],\n",
       "        [ 0.61534169,  5.        ],\n",
       "        [ 0.9173619 ,  6.        ],\n",
       "        [ 0.04720599,  7.        ]],\n",
       "\n",
       "       [[ 0.16536584,  8.        ],\n",
       "        [ 0.20948086,  9.        ],\n",
       "        [ 0.63668953, 10.        ],\n",
       "        [ 0.21595701, 11.        ]],\n",
       "\n",
       "       [[ 0.74977675, 12.        ],\n",
       "        [ 0.69667224, 13.        ],\n",
       "        [ 0.6372795 , 14.        ],\n",
       "        [ 0.25629931, 15.        ]]])"
      ]
     },
     "execution_count": 292,
     "metadata": {},
     "output_type": "execute_result"
    }
   ],
   "source": [
    "np.stack((b,c2), axis = -1) #stack by columns by specifying axis = -1"
   ]
  },
  {
   "cell_type": "markdown",
   "id": "76028fe0-4bee-4884-9d5b-c1b8242c8216",
   "metadata": {},
   "source": [
    "### Exercise 22:\n",
    "Stack two NumPy arrays horizontally.\n",
    "\n",
    "```python\n",
    "# Exercise 22\n",
    "```"
   ]
  },
  {
   "cell_type": "code",
   "execution_count": 294,
   "id": "22e26412-4705-4e2a-b94d-e2c569157bec",
   "metadata": {},
   "outputs": [
    {
     "data": {
      "text/plain": [
       "array([[[ 0.97287352,  0.        ],\n",
       "        [ 0.18475826,  1.        ],\n",
       "        [ 0.84337712,  2.        ],\n",
       "        [ 0.36771583,  3.        ]],\n",
       "\n",
       "       [[ 0.35741937,  4.        ],\n",
       "        [ 0.61534169,  5.        ],\n",
       "        [ 0.9173619 ,  6.        ],\n",
       "        [ 0.04720599,  7.        ]],\n",
       "\n",
       "       [[ 0.16536584,  8.        ],\n",
       "        [ 0.20948086,  9.        ],\n",
       "        [ 0.63668953, 10.        ],\n",
       "        [ 0.21595701, 11.        ]],\n",
       "\n",
       "       [[ 0.74977675, 12.        ],\n",
       "        [ 0.69667224, 13.        ],\n",
       "        [ 0.6372795 , 14.        ],\n",
       "        [ 0.25629931, 15.        ]]])"
      ]
     },
     "execution_count": 294,
     "metadata": {},
     "output_type": "execute_result"
    }
   ],
   "source": [
    "np.stack((b,c2), axis = -1) #stack by columns by specifying axis = -1"
   ]
  },
  {
   "cell_type": "markdown",
   "id": "e31c0c53-918e-4c8a-b24f-c9936ca3c9fe",
   "metadata": {},
   "source": [
    "### Exercise 23:\n",
    "Split a NumPy array into multiple sub-arrays.\n",
    "\n",
    "```python\n",
    "# Exercise 23\n",
    "```"
   ]
  },
  {
   "cell_type": "code",
   "execution_count": 298,
   "id": "35f3a795-7485-431f-96a8-52b7f028653b",
   "metadata": {},
   "outputs": [
    {
     "data": {
      "text/plain": [
       "[array([[19,  3,  2,  7]]),\n",
       " array([[ 7, 13, 15, 12]]),\n",
       " array([[ 3, 12,  1, 18]]),\n",
       " array([[ 6,  9,  4, 12]])]"
      ]
     },
     "execution_count": 298,
     "metadata": {},
     "output_type": "execute_result"
    }
   ],
   "source": [
    "np.split(i,4) #split function splits an array into sub-arrays. The arguments here are(matrix, no. of sub-arrays to split array into)"
   ]
  },
  {
   "cell_type": "markdown",
   "id": "46dd822f-af1d-4519-875b-fe0e918a4838",
   "metadata": {},
   "source": [
    "### Exercise 24:\n",
    "Generate a random NumPy array and round each element to two decimal places.\n",
    "\n",
    "```python\n",
    "# Exercise 24\n",
    "```"
   ]
  },
  {
   "cell_type": "code",
   "execution_count": 306,
   "id": "6631c470-12db-4371-9f5b-cf35dfebcc26",
   "metadata": {},
   "outputs": [
    {
     "data": {
      "text/plain": [
       "array([[0.97287352, 0.18475826, 0.84337712, 0.36771583],\n",
       "       [0.35741937, 0.61534169, 0.9173619 , 0.04720599],\n",
       "       [0.16536584, 0.20948086, 0.63668953, 0.21595701],\n",
       "       [0.74977675, 0.69667224, 0.6372795 , 0.25629931]])"
      ]
     },
     "execution_count": 306,
     "metadata": {},
     "output_type": "execute_result"
    }
   ],
   "source": [
    "b"
   ]
  },
  {
   "cell_type": "code",
   "execution_count": 304,
   "id": "b391f302-694c-49fa-b07f-8129f9f23ba1",
   "metadata": {},
   "outputs": [
    {
     "data": {
      "text/plain": [
       "array([[0.97, 0.18, 0.84, 0.37],\n",
       "       [0.36, 0.62, 0.92, 0.05],\n",
       "       [0.17, 0.21, 0.64, 0.22],\n",
       "       [0.75, 0.7 , 0.64, 0.26]])"
      ]
     },
     "execution_count": 304,
     "metadata": {},
     "output_type": "execute_result"
    }
   ],
   "source": [
    "np.round(b, decimals = 2)"
   ]
  },
  {
   "cell_type": "markdown",
   "id": "8b922879-fc53-49fd-a3a3-7b782b9f41c4",
   "metadata": {},
   "source": [
    "### Exercise 25:\n",
    "Find the unique elements of a NumPy array.\n",
    "\n",
    "```python\n",
    "# Exercise 25\n",
    "```"
   ]
  },
  {
   "cell_type": "code",
   "execution_count": 310,
   "id": "72c3fb23-34b9-487b-8250-db1c2ee66432",
   "metadata": {},
   "outputs": [
    {
     "data": {
      "text/plain": [
       "array([[7, 3, 7],\n",
       "       [8, 5, 2],\n",
       "       [8, 1, 3]])"
      ]
     },
     "execution_count": 310,
     "metadata": {},
     "output_type": "execute_result"
    }
   ],
   "source": [
    "g"
   ]
  },
  {
   "cell_type": "code",
   "execution_count": 308,
   "id": "7363ad2e-1843-4a48-ba0f-1b005943bdf2",
   "metadata": {},
   "outputs": [
    {
     "data": {
      "text/plain": [
       "array([1, 2, 3, 5, 7, 8])"
      ]
     },
     "execution_count": 308,
     "metadata": {},
     "output_type": "execute_result"
    }
   ],
   "source": [
    "np.unique(g)"
   ]
  },
  {
   "cell_type": "markdown",
   "id": "6a1e8282-9a27-4db1-ae74-e1aa38c1ca9f",
   "metadata": {},
   "source": [
    "### Exercise 26:\n",
    "Replace all elements in a NumPy array that are less than a specific value with that value.\n",
    "\n",
    "```python\n",
    "# Exercise 26\n",
    "```"
   ]
  },
  {
   "cell_type": "code",
   "execution_count": 312,
   "id": "8988bcef-09e0-4f3f-b938-163106b8f3e2",
   "metadata": {},
   "outputs": [
    {
     "data": {
      "text/plain": [
       "array([[19,  3,  2,  7],\n",
       "       [ 7, 13, 15, 12],\n",
       "       [ 3, 12,  1, 18],\n",
       "       [ 6,  9,  4, 12]])"
      ]
     },
     "execution_count": 312,
     "metadata": {},
     "output_type": "execute_result"
    }
   ],
   "source": [
    "i"
   ]
  },
  {
   "cell_type": "code",
   "execution_count": 322,
   "id": "ab3d39ec-6b50-4167-aa8b-7da42161d707",
   "metadata": {},
   "outputs": [
    {
     "data": {
      "text/plain": [
       "array([[19,  7,  7,  7],\n",
       "       [ 7, 13, 15, 12],\n",
       "       [ 7, 12,  7, 18],\n",
       "       [ 7,  9,  7, 12]])"
      ]
     },
     "execution_count": 322,
     "metadata": {},
     "output_type": "execute_result"
    }
   ],
   "source": [
    "mask = (i < 7) #identifies values in matrix satisfyingthe condition and denotes them True\n",
    "i[mask] = 7 #for all entries that are true replace with 7\n",
    "i"
   ]
  },
  {
   "cell_type": "markdown",
   "id": "ce3ba7e3-3bdd-45f8-a02f-f44eaf78bf7d",
   "metadata": {},
   "source": [
    "### Exercise 27:\n",
    "Find the cumulative sum of the elements in a NumPy array.\n",
    "\n",
    "```python\n",
    "# Exercise 27\n",
    "```"
   ]
  },
  {
   "cell_type": "code",
   "execution_count": 326,
   "id": "b7aa4ee1-696b-43c0-bbf3-ed190474e4e2",
   "metadata": {},
   "outputs": [
    {
     "data": {
      "text/plain": [
       "array([[19,  7,  7,  7],\n",
       "       [ 7, 13, 15, 12],\n",
       "       [ 7, 12,  7, 18],\n",
       "       [ 7,  9,  7, 12]])"
      ]
     },
     "execution_count": 326,
     "metadata": {},
     "output_type": "execute_result"
    }
   ],
   "source": [
    "i"
   ]
  },
  {
   "cell_type": "code",
   "execution_count": 324,
   "id": "30c7619f-45b3-4225-8742-e01a057be391",
   "metadata": {},
   "outputs": [
    {
     "data": {
      "text/plain": [
       "array([ 19,  26,  33,  40,  47,  60,  75,  87,  94, 106, 113, 131, 138,\n",
       "       147, 154, 166])"
      ]
     },
     "execution_count": 324,
     "metadata": {},
     "output_type": "execute_result"
    }
   ],
   "source": [
    "np.cumsum(i)"
   ]
  },
  {
   "cell_type": "markdown",
   "id": "c18870b6-1ba6-4663-8e96-fccbac78b23c",
   "metadata": {},
   "source": [
    "### Exercise 28:\n",
    "Create a NumPy array and find the number of non-zero elements in it.\n",
    "\n",
    "```python\n",
    "# Exercise 28\n",
    "```"
   ]
  },
  {
   "cell_type": "code",
   "execution_count": 330,
   "id": "4122a2ce-b1b1-4aa4-8809-3b2ec45b51f7",
   "metadata": {},
   "outputs": [
    {
     "data": {
      "text/plain": [
       "array([[1., 0., 0., 0., 0.],\n",
       "       [0., 1., 0., 0., 0.],\n",
       "       [0., 0., 1., 0., 0.],\n",
       "       [0., 0., 0., 1., 0.],\n",
       "       [0., 0., 0., 0., 1.]])"
      ]
     },
     "execution_count": 330,
     "metadata": {},
     "output_type": "execute_result"
    }
   ],
   "source": [
    "a"
   ]
  },
  {
   "cell_type": "code",
   "execution_count": 336,
   "id": "4b7778f8-ca32-48aa-88f0-092d0c115653",
   "metadata": {},
   "outputs": [
    {
     "data": {
      "text/plain": [
       "array([1., 1., 1., 1., 1.])"
      ]
     },
     "execution_count": 336,
     "metadata": {},
     "output_type": "execute_result"
    }
   ],
   "source": [
    "k = np.nonzero(a) #gives index of these non-zero values\n",
    "a[k]"
   ]
  },
  {
   "cell_type": "markdown",
   "id": "206ab40d-d7cc-47ae-8542-36b9b4830168",
   "metadata": {},
   "source": [
    "### Exercise 29:\n",
    "Create a NumPy array of random integers and sort it in ascending order.\n",
    "\n",
    "```python\n",
    "# Exercise 29\n",
    "```"
   ]
  },
  {
   "cell_type": "code",
   "execution_count": 347,
   "id": "809a8b20-e2d1-4647-9c99-2efafd777ff2",
   "metadata": {},
   "outputs": [
    {
     "data": {
      "text/plain": [
       "array([[67, 63, 46, 35, 42, 40, 63],\n",
       "       [33, 35, 59, 47, 56, 32, 67],\n",
       "       [31, 35, 34, 34, 60, 46, 66],\n",
       "       [65, 55, 38, 37, 61, 30, 63]])"
      ]
     },
     "execution_count": 347,
     "metadata": {},
     "output_type": "execute_result"
    }
   ],
   "source": [
    "l = np.random.randint(30,70, (4,7))\n",
    "l"
   ]
  },
  {
   "cell_type": "code",
   "execution_count": 351,
   "id": "cc8c19e1-cde2-42d9-afc8-79a565fc4859",
   "metadata": {},
   "outputs": [
    {
     "data": {
      "text/plain": [
       "array([[35, 40, 42, 46, 63, 63, 67],\n",
       "       [32, 33, 35, 47, 56, 59, 67],\n",
       "       [31, 34, 34, 35, 46, 60, 66],\n",
       "       [30, 37, 38, 55, 61, 63, 65]])"
      ]
     },
     "execution_count": 351,
     "metadata": {},
     "output_type": "execute_result"
    }
   ],
   "source": [
    "np.sort(l) #values of the matrix are sorted from smallest to largest"
   ]
  },
  {
   "cell_type": "markdown",
   "id": "ec1bb5cc-9145-426c-b2dd-5b116fe628d2",
   "metadata": {},
   "source": [
    "### Exercise 30:\n",
    "Find the row-wise and column-wise sum of a 3x3 matrix.\n",
    "\n",
    "```python\n",
    "# Exercise 30\n",
    "```"
   ]
  },
  {
   "cell_type": "code",
   "execution_count": 360,
   "id": "80ff0b62-c442-4cc2-acc0-9a70448a3521",
   "metadata": {},
   "outputs": [
    {
     "data": {
      "text/plain": [
       "array([[0, 1, 2],\n",
       "       [3, 4, 5],\n",
       "       [6, 7, 8]])"
      ]
     },
     "execution_count": 360,
     "metadata": {},
     "output_type": "execute_result"
    }
   ],
   "source": [
    "h"
   ]
  },
  {
   "cell_type": "code",
   "execution_count": 366,
   "id": "971d5757-7792-4c94-a5af-2fc5807643e3",
   "metadata": {},
   "outputs": [
    {
     "data": {
      "text/plain": [
       "array([ 9, 12, 15])"
      ]
     },
     "execution_count": 366,
     "metadata": {},
     "output_type": "execute_result"
    }
   ],
   "source": [
    "np.sum(h, axis = 0) #column-wise sum"
   ]
  },
  {
   "cell_type": "code",
   "execution_count": 368,
   "id": "aa971035-297c-4671-b4b5-8a75325e1c90",
   "metadata": {},
   "outputs": [
    {
     "data": {
      "text/plain": [
       "array([ 3, 12, 21])"
      ]
     },
     "execution_count": 368,
     "metadata": {},
     "output_type": "execute_result"
    }
   ],
   "source": [
    "np.sum(h, axis = 1) #row-wise sum"
   ]
  },
  {
   "cell_type": "markdown",
   "id": "a3b3d37f-2b31-45dd-a2d8-c920dd5ebd06",
   "metadata": {},
   "source": [
    "### Exercise 31:\n",
    "Generate a 2D NumPy array with random values and normalize it (scale the values between 0 and 1).\n",
    "\n",
    "```python\n",
    "# Exercise 31\n",
    "```"
   ]
  },
  {
   "cell_type": "code",
   "execution_count": 372,
   "id": "442d7a3e-d95f-49fd-902e-fe4d3727300b",
   "metadata": {},
   "outputs": [
    {
     "data": {
      "text/plain": [
       "array([[30, 33, 28, 40, 44, 36, 34],\n",
       "       [29, 27, 31, 46, 34, 43, 38],\n",
       "       [28, 31, 44, 23, 37, 37, 46],\n",
       "       [35, 31, 38, 44, 37, 42, 43],\n",
       "       [31, 26, 24, 33, 45, 21, 46],\n",
       "       [25, 24, 42, 25, 20, 49, 26],\n",
       "       [49, 43, 30, 29, 47, 22, 22]])"
      ]
     },
     "execution_count": 372,
     "metadata": {},
     "output_type": "execute_result"
    }
   ],
   "source": [
    "m = np.random.randint(20,50,(7,7))\n",
    "m"
   ]
  },
  {
   "cell_type": "code",
   "execution_count": 394,
   "id": "1cdae3ac-6cd4-4f36-a6f9-b5db0774669f",
   "metadata": {},
   "outputs": [
    {
     "data": {
      "text/plain": [
       "array([[0.12088522, 0.13297374, 0.11282621, 0.16118029, 0.17729832,\n",
       "        0.14506226, 0.13700325],\n",
       "       [0.11685571, 0.1087967 , 0.12491473, 0.18535734, 0.13700325,\n",
       "        0.17326881, 0.15312128],\n",
       "       [0.11282621, 0.12491473, 0.17729832, 0.09267867, 0.14909177,\n",
       "        0.14909177, 0.18535734],\n",
       "       [0.14103276, 0.12491473, 0.15312128, 0.17729832, 0.14909177,\n",
       "        0.16923931, 0.17326881],\n",
       "       [0.12491473, 0.10476719, 0.09670818, 0.13297374, 0.18132783,\n",
       "        0.08461965, 0.18535734],\n",
       "       [0.10073768, 0.09670818, 0.16923931, 0.10073768, 0.08059015,\n",
       "        0.19744586, 0.10476719],\n",
       "       [0.19744586, 0.17326881, 0.12088522, 0.11685571, 0.18938684,\n",
       "        0.08864916, 0.08864916]])"
      ]
     },
     "execution_count": 394,
     "metadata": {},
     "output_type": "execute_result"
    }
   ],
   "source": [
    "n = np.linalg.norm(m) #returns norm\n",
    "o = m/n #divide matrix values by norms to obtain values between 0 and 1\n",
    "o"
   ]
  },
  {
   "cell_type": "markdown",
   "id": "28012351-00c2-4d73-948c-e36e6d8ffc1f",
   "metadata": {},
   "source": [
    "### Exercise 32:\n",
    "Create two NumPy arrays and find the dot product.\n",
    "\n",
    "```python\n",
    "# Exercise 32\n",
    "```"
   ]
  },
  {
   "cell_type": "code",
   "execution_count": 400,
   "id": "214732e8-85c2-4186-9cf0-1ff1746dee2a",
   "metadata": {},
   "outputs": [
    {
     "data": {
      "text/plain": [
       "array([[0.75719501, 0.38083885, 0.73811989, 0.67170711, 0.53542229],\n",
       "       [0.77389499, 0.07625858, 0.57457056, 0.7993518 , 0.66914789],\n",
       "       [0.05224475, 0.5189414 , 0.07628665, 0.86668971, 0.94733648],\n",
       "       [0.08941566, 0.8404441 , 0.5366776 , 0.71666552, 0.40674888],\n",
       "       [0.35370325, 0.35211874, 0.27304017, 0.16508863, 0.85634705]])"
      ]
     },
     "execution_count": 400,
     "metadata": {},
     "output_type": "execute_result"
    }
   ],
   "source": [
    "p = np.random.random(25).reshape((5,5))\n",
    "p"
   ]
  },
  {
   "cell_type": "code",
   "execution_count": 408,
   "id": "e0294581-0b3e-4e08-b8c4-6a71cac5a2b1",
   "metadata": {},
   "outputs": [
    {
     "data": {
      "text/plain": [
       "array([[ 1,  1, 11,  2,  5],\n",
       "       [14, 20,  2,  8,  9],\n",
       "       [10, 10,  3,  3,  1]])"
      ]
     },
     "execution_count": 408,
     "metadata": {},
     "output_type": "execute_result"
    }
   ],
   "source": [
    "q = np.random.randint(1,25, (3,5))\n",
    "q"
   ]
  },
  {
   "cell_type": "code",
   "execution_count": 412,
   "id": "30bb9322-eaff-4c3f-bcb9-7d9e25a4f688",
   "metadata": {},
   "outputs": [
    {
     "data": {
      "text/plain": [
       "array([[ 4.0531298 ,  9.60693475,  4.5903996 , 13.26341993, 16.72050447],\n",
       "       [30.0817739 , 17.78741987, 28.72844516, 34.34343673, 33.73465733],\n",
       "       [16.08958445,  9.00124961, 15.23883737, 19.62574339, 16.9643049 ]])"
      ]
     },
     "execution_count": 412,
     "metadata": {},
     "output_type": "execute_result"
    }
   ],
   "source": [
    "np.dot(q,p)"
   ]
  },
  {
   "cell_type": "markdown",
   "id": "385155b3-7f7e-4d6d-8530-f63b4cc8aa75",
   "metadata": {},
   "source": [
    "### Exercise 33:\n",
    "Find the trace of a square NumPy matrix.\n",
    "\n",
    "```python\n",
    "# Exercise 33\n",
    "```"
   ]
  },
  {
   "cell_type": "code",
   "execution_count": 414,
   "id": "a76be656-2cba-473b-80b4-fb99f948ac79",
   "metadata": {},
   "outputs": [
    {
     "data": {
      "text/plain": [
       "2.4827528173364084"
      ]
     },
     "execution_count": 414,
     "metadata": {},
     "output_type": "execute_result"
    }
   ],
   "source": [
    "np.trace(p)"
   ]
  },
  {
   "cell_type": "markdown",
   "id": "7c2db773-5dca-41cc-9fd8-9c8dd7f4a96d",
   "metadata": {},
   "source": [
    "### Exercise 34:\n",
    "Create a 2D array and swap two rows.\n",
    "\n",
    "```python\n",
    "# Exercise 34\n",
    "```"
   ]
  },
  {
   "cell_type": "code",
   "execution_count": 420,
   "id": "5899f825-c221-4875-a00c-6ae91418a2f5",
   "metadata": {},
   "outputs": [
    {
     "data": {
      "text/plain": [
       "array([[ 1,  1, 11,  2,  5],\n",
       "       [14, 20,  2,  8,  9],\n",
       "       [10, 10,  3,  3,  1]])"
      ]
     },
     "execution_count": 420,
     "metadata": {},
     "output_type": "execute_result"
    }
   ],
   "source": [
    "q"
   ]
  },
  {
   "cell_type": "code",
   "execution_count": 424,
   "id": "5b9ed0c3-e172-4b7f-87a9-b918c4a6eade",
   "metadata": {},
   "outputs": [
    {
     "data": {
      "text/plain": [
       "array([[10, 10,  3,  3,  1],\n",
       "       [ 1,  1, 11,  2,  5],\n",
       "       [14, 20,  2,  8,  9]])"
      ]
     },
     "execution_count": 424,
     "metadata": {},
     "output_type": "execute_result"
    }
   ],
   "source": [
    "np.roll(q,1,axis = 0) #first and last rows are swapped"
   ]
  },
  {
   "cell_type": "markdown",
   "id": "2af52d0c-dbd6-4073-9804-9c9da011dcd3",
   "metadata": {},
   "source": [
    "### Exercise 35:\n",
    "Create a 1D NumPy array and convert it into a column vector.\n",
    "\n",
    "```python\n",
    "# Exercise 35\n",
    "```"
   ]
  },
  {
   "cell_type": "code",
   "execution_count": 452,
   "id": "927effbc-e2a1-4954-9b2b-fbe23e9ca48c",
   "metadata": {},
   "outputs": [
    {
     "data": {
      "text/plain": [
       "array([0, 1, 2, 3, 4, 5, 6])"
      ]
     },
     "execution_count": 452,
     "metadata": {},
     "output_type": "execute_result"
    }
   ],
   "source": [
    "q = np.arange(7)\n",
    "q"
   ]
  },
  {
   "cell_type": "code",
   "execution_count": 458,
   "id": "2fb90264-89da-4f64-aa60-1294cfcf7681",
   "metadata": {},
   "outputs": [
    {
     "data": {
      "text/plain": [
       "array([[0],\n",
       "       [1],\n",
       "       [2],\n",
       "       [3],\n",
       "       [4],\n",
       "       [5],\n",
       "       [6]])"
      ]
     },
     "execution_count": 458,
     "metadata": {},
     "output_type": "execute_result"
    }
   ],
   "source": [
    "q.reshape(-1,1)"
   ]
  },
  {
   "cell_type": "markdown",
   "id": "a6489819-cbc2-444a-8430-852140e32f7c",
   "metadata": {},
   "source": [
    "### Exercise 36:\n",
    "Find the determinant of a 3x3 matrix.\n",
    "\n",
    "```python\n",
    "# Exercise 36\n",
    "```"
   ]
  },
  {
   "cell_type": "code",
   "execution_count": 464,
   "id": "cbbb8c2c-121f-4fe7-91c5-db0c7544ee46",
   "metadata": {},
   "outputs": [
    {
     "data": {
      "text/plain": [
       "58361283.00000004"
      ]
     },
     "execution_count": 464,
     "metadata": {},
     "output_type": "execute_result"
    }
   ],
   "source": [
    "np.linalg.det(m)"
   ]
  },
  {
   "cell_type": "markdown",
   "id": "875f68d7-7aca-486a-8d89-b4235e8a44ec",
   "metadata": {},
   "source": [
    "### Exercise 37:\n",
    "Find the eigenvalues and eigenvectors of a 2x2 matrix.\n",
    "\n",
    "```python\n",
    "# Exercise 37\n",
    "```"
   ]
  },
  {
   "cell_type": "code",
   "execution_count": 468,
   "id": "15723ceb-2910-47ac-8fa7-2d9c8915da2e",
   "metadata": {},
   "outputs": [
    {
     "data": {
      "text/plain": [
       "array([[0, 1],\n",
       "       [2, 3]])"
      ]
     },
     "execution_count": 468,
     "metadata": {},
     "output_type": "execute_result"
    }
   ],
   "source": [
    "r = np.arange(4).reshape(2,2)\n",
    "r"
   ]
  },
  {
   "cell_type": "code",
   "execution_count": 470,
   "id": "49a37f0a-c978-4fcd-b1ce-531f68f3f638",
   "metadata": {},
   "outputs": [
    {
     "data": {
      "text/plain": [
       "EigResult(eigenvalues=array([-0.56155281,  3.56155281]), eigenvectors=array([[-0.87192821, -0.27032301],\n",
       "       [ 0.48963374, -0.96276969]]))"
      ]
     },
     "execution_count": 470,
     "metadata": {},
     "output_type": "execute_result"
    }
   ],
   "source": [
    "np.linalg.eig(r)"
   ]
  },
  {
   "cell_type": "markdown",
   "id": "4d7e1dce-b710-42f6-a392-b5a6dd76c0ab",
   "metadata": {},
   "source": [
    "### Exercise 38:\n",
    "Solve a system of linear equations using NumPy.\n",
    "\n",
    "```python\n",
    "# Exercise 38\n",
    "```"
   ]
  },
  {
   "cell_type": "code",
   "execution_count": 472,
   "id": "2717e774-dadb-46e2-9e96-a6f51b5bdc33",
   "metadata": {},
   "outputs": [
    {
     "data": {
      "text/plain": [
       "array([-1.,  1.])"
      ]
     },
     "execution_count": 472,
     "metadata": {},
     "output_type": "execute_result"
    }
   ],
   "source": [
    "s = np.array([[1, 2], [3, 5]])\n",
    "t = np.array([1, 2])\n",
    "u = np.linalg.solve(s, t)\n",
    "u"
   ]
  },
  {
   "cell_type": "markdown",
   "id": "30e92a67-b03c-44b1-951e-0343cd087067",
   "metadata": {},
   "source": [
    "### Exercise 39:\n",
    "Add Gaussian noise to a NumPy array.\n",
    "\n",
    "```python\n",
    "# Exercise 39\n",
    "```"
   ]
  },
  {
   "cell_type": "code",
   "execution_count": 484,
   "id": "341d1033-b4b4-47be-a2dc-4bdd72e7d6cb",
   "metadata": {},
   "outputs": [
    {
     "data": {
      "text/plain": [
       "array([ 1,  2,  3,  4,  5,  6,  7,  8,  9, 10])"
      ]
     },
     "execution_count": 484,
     "metadata": {},
     "output_type": "execute_result"
    }
   ],
   "source": [
    "x"
   ]
  },
  {
   "cell_type": "code",
   "execution_count": 492,
   "id": "85b9ec7b-9bca-41fc-86d2-028909020658",
   "metadata": {},
   "outputs": [
    {
     "data": {
      "text/plain": [
       "array([ 0.89809258,  2.83992003,  3.10145359,  4.39441166,  5.51261305,\n",
       "        6.54498788,  7.89257777,  7.93715888,  9.80217082, 10.3154024 ])"
      ]
     },
     "execution_count": 492,
     "metadata": {},
     "output_type": "execute_result"
    }
   ],
   "source": [
    "v = np.random.normal(0.5,0.3,x.shape) #generate noise according to normal distribution\n",
    "x + v #add noise to the original array"
   ]
  },
  {
   "cell_type": "markdown",
   "id": "97d64b5f-a8f5-4d46-b62f-0799c910ae69",
   "metadata": {},
   "source": [
    "### Exercise 40:\n",
    "Create a 4x4 matrix and extract the diagonal elements.\n",
    "\n",
    "```python\n",
    "# Exercise 40\n",
    "```"
   ]
  },
  {
   "cell_type": "code",
   "execution_count": 498,
   "id": "904a2789-3b91-4976-b04b-0466387d4c92",
   "metadata": {},
   "outputs": [
    {
     "data": {
      "text/plain": [
       "array([ 0,  5, 10, 15])"
      ]
     },
     "execution_count": 498,
     "metadata": {},
     "output_type": "execute_result"
    }
   ],
   "source": [
    "w = np.arange(16).reshape(4,4) #create 4X4 matrix \n",
    "np.diag(w) #extract values at diagonal"
   ]
  },
  {
   "cell_type": "code",
   "execution_count": null,
   "id": "0aec8601-60e8-44d7-b633-2d38cafa83c2",
   "metadata": {},
   "outputs": [],
   "source": []
  },
  {
   "cell_type": "markdown",
   "id": "09d7d6d5-db68-4f27-b65f-9f9f3090d4ab",
   "metadata": {},
   "source": [
    "### Exercise 41:\n",
    "Generate a NumPy array of 100 random values and clip the values to a range between 10 and 50.\n",
    "\n",
    "```python\n",
    "# Exercise 41\n",
    "```"
   ]
  },
  {
   "cell_type": "markdown",
   "id": "c962b553-ea17-4379-b9c1-5027e32a71e7",
   "metadata": {},
   "source": [
    "---"
   ]
  },
  {
   "cell_type": "markdown",
   "id": "ff187c4f-5d45-4142-8b67-446d2a1228eb",
   "metadata": {},
   "source": [
    "### Exercise 42:\n",
    "Create a 2D NumPy array and replace all negative values with zero.\n",
    "\n",
    "```python\n",
    "# Exercise 42\n",
    "```"
   ]
  },
  {
   "cell_type": "markdown",
   "id": "fbd9ac1a-f48b-4e45-8d9b-f16acbd29393",
   "metadata": {},
   "source": [
    "---"
   ]
  },
  {
   "cell_type": "markdown",
   "id": "e980e35e-2eff-4930-a789-2b36313cd170",
   "metadata": {},
   "source": [
    "### Exercise 43:\n",
    "Find the inner and outer products of two NumPy arrays.\n",
    "\n",
    "```python\n",
    "# Exercise 43\n",
    "```"
   ]
  },
  {
   "cell_type": "markdown",
   "id": "680aa572-d834-4fe4-9a7a-adbafe71c980",
   "metadata": {},
   "source": [
    "---"
   ]
  },
  {
   "cell_type": "markdown",
   "id": "98266b8b-a34c-48fc-a0f8-49aafb4d5596",
   "metadata": {},
   "source": [
    "### Exercise 44:\n",
    "Calculate the pairwise distances between points in a NumPy array.\n",
    "\n",
    "```python\n",
    "# Exercise 44\n",
    "```"
   ]
  },
  {
   "cell_type": "markdown",
   "id": "a68de5d7-0614-4b16-b8cc-aafa9c2e7bec",
   "metadata": {},
   "source": [
    "---"
   ]
  },
  {
   "cell_type": "markdown",
   "id": "04f360e9-310b-46af-8c33-c105b51d699b",
   "metadata": {},
   "source": [
    "### Exercise 45:\n",
    "Create a structured NumPy array with fields for `name`, `age`, and `height`.\n",
    "\n",
    "```python\n",
    "# Exercise 45\n",
    "```"
   ]
  },
  {
   "cell_type": "markdown",
   "id": "73d69435-30be-4d1b-8b76-199703f7a249",
   "metadata": {},
   "source": [
    "---"
   ]
  },
  {
   "cell_type": "markdown",
   "id": "60af0af1-7d27-46b7-aa91-303a4207fba6",
   "metadata": {},
   "source": [
    "### Exercise 46:\n",
    "Create a 5x5 matrix of random integers and count the occurrences of each unique value.\n",
    "\n",
    "```python\n",
    "# Exercise 46\n",
    "```"
   ]
  },
  {
   "cell_type": "markdown",
   "id": "afcad102-3400-41b8-bf6b-739364018314",
   "metadata": {},
   "source": [
    "---"
   ]
  },
  {
   "cell_type": "markdown",
   "id": "acb9d0ec-0131-49e5-ac91-6211263032b2",
   "metadata": {},
   "source": [
    "### Exercise 47:\n",
    "Generate a random 3x3 NumPy array and subtract the mean of each row from the corresponding row.\n",
    "\n",
    "```python\n",
    "# Exercise 47\n",
    "```"
   ]
  },
  {
   "cell_type": "markdown",
   "id": "d303d788-71b1-43c7-ab6a-249d5727caa5",
   "metadata": {},
   "source": [
    "---"
   ]
  },
  {
   "cell_type": "markdown",
   "id": "b25f3df8-f4d3-41bf-8217-4434e8ead111",
   "metadata": {},
   "source": [
    "### Exercise 48:\n",
    "Create a NumPy array of random integers and check if any of the values are greater than 50.\n",
    "\n",
    "```python\n",
    "# Exercise 48\n",
    "```"
   ]
  },
  {
   "cell_type": "markdown",
   "id": "7c6ff45c-b036-4fde-b875-b6e68c883b79",
   "metadata": {},
   "source": [
    "---"
   ]
  },
  {
   "cell_type": "markdown",
   "id": "5819a12a-cfc7-4d3e-9f76-15454cca0474",
   "metadata": {},
   "source": [
    "### Exercise 49:\n",
    "Calculate the moving average of a 1D NumPy array.\n",
    "\n",
    "```python\n",
    "# Exercise 49\n",
    "```"
   ]
  },
  {
   "cell_type": "markdown",
   "id": "44bff3f5-48d9-45e9-8aef-e6288d471eca",
   "metadata": {},
   "source": [
    "---"
   ]
  },
  {
   "cell_type": "markdown",
   "id": "136aca8f-9c69-417a-8cc5-fbc5302a6c66",
   "metadata": {},
   "source": [
    "### Exercise 50:\n",
    "Find the Pearson correlation coefficient between two NumPy arrays.\n",
    "\n",
    "```python\n",
    "# Exercise 50\n",
    "```"
   ]
  },
  {
   "cell_type": "markdown",
   "id": "e7e933dc-0d51-4a02-8986-a1e81e4ba6f8",
   "metadata": {},
   "source": [
    "---"
   ]
  },
  {
   "cell_type": "markdown",
   "id": "4b2b3204-0655-4a01-90a4-80963cd06a1f",
   "metadata": {},
   "source": [
    "### Exercise 51:\n",
    "Convert a NumPy array of radians to degrees.\n",
    "\n",
    "```python\n",
    "# Exercise 51\n",
    "```"
   ]
  },
  {
   "cell_type": "markdown",
   "id": "11dd5d3f-dde5-4d64-9f9e-a3a7968f9197",
   "metadata": {},
   "source": [
    "---"
   ]
  },
  {
   "cell_type": "markdown",
   "id": "8d8e610f-24b3-4548-92c5-95b6c9b3a8a6",
   "metadata": {},
   "source": [
    "### Exercise 52:\n",
    "Create a random NumPy array and compute its variance and standard deviation.\n",
    "\n",
    "```python\n",
    "# Exercise 52\n",
    "```"
   ]
  },
  {
   "cell_type": "markdown",
   "id": "174d2e37-55e5-44f2-a1f1-555194c71844",
   "metadata": {},
   "source": [
    "---"
   ]
  },
  {
   "cell_type": "markdown",
   "id": "37efb152-03aa-4c4c-8bfd-84bc888f8fc1",
   "metadata": {},
   "source": [
    "### Exercise 53:\n",
    "Create a 2D NumPy array and find the indices of the maximum values along each axis.\n",
    "\n",
    "```python\n",
    "# Exercise 53\n",
    "```"
   ]
  },
  {
   "cell_type": "markdown",
   "id": "b64fe8cc-732e-4f66-b9f0-98a79c6e705c",
   "metadata": {},
   "source": [
    "---"
   ]
  },
  {
   "cell_type": "markdown",
   "id": "b5dc0d8c-145d-4cc7-9da6-9a9343e33745",
   "metadata": {},
   "source": [
    "### Exercise 54:\n",
    "Compute the inverse of a 2x2 NumPy matrix.\n",
    "\n",
    "```python\n",
    "# Exercise 54\n",
    "```"
   ]
  },
  {
   "cell_type": "markdown",
   "id": "b13220f4-54fe-4844-8343-46ff65929a91",
   "metadata": {},
   "source": [
    "---"
   ]
  },
  {
   "cell_type": "markdown",
   "id": "d7e75f9e-7137-47cb-8962-91468f9d87ac",
   "metadata": {},
   "source": [
    "### Exercise 55:\n",
    "Create a NumPy array of 10 random values and standardize it (mean 0, variance 1).\n",
    "\n",
    "```python\n",
    "# Exercise 55\n",
    "```"
   ]
  },
  {
   "cell_type": "markdown",
   "id": "2510eb35-1455-4576-874c-84f4669549cb",
   "metadata": {},
   "source": [
    "---"
   ]
  },
  {
   "cell_type": "markdown",
   "id": "4b6c06b0-e667-4c88-800d-9e71dfe9ebd0",
   "metadata": {},
   "source": [
    "### Exercise 56:\n",
    "Perform element-wise addition and subtraction on two NumPy arrays.\n",
    "\n",
    "```python\n",
    "# Exercise 56\n",
    "```"
   ]
  },
  {
   "cell_type": "markdown",
   "id": "b265ba9d-c136-43aa-b26b-de28efbb0fe9",
   "metadata": {},
   "source": [
    "---"
   ]
  },
  {
   "cell_type": "markdown",
   "id": "473fdfb1-cead-4cf7-8b53-fdb705341d3e",
   "metadata": {},
   "source": [
    "### Exercise 57:\n",
    "Create a NumPy array of random values and find the maximum element's index.\n",
    "\n",
    "```python\n",
    "# Exercise 57\n",
    "```"
   ]
  },
  {
   "cell_type": "markdown",
   "id": "96ef7276-53d4-4444-ba40-ba41c08be92d",
   "metadata": {},
   "source": [
    "---"
   ]
  },
  {
   "cell_type": "markdown",
   "id": "91350dde-db67-4b78-8ae9-d5089b5c3ef3",
   "metadata": {},
   "source": [
    "### Exercise 58:\n",
    "Create a 3x3 NumPy array and rotate it by 90 degrees.\n",
    "\n",
    "```python\n",
    "# Exercise 58\n",
    "```"
   ]
  },
  {
   "cell_type": "markdown",
   "id": "887ff958-5861-49af-9f10-e4d624b753ea",
   "metadata": {},
   "source": [
    "---"
   ]
  },
  {
   "cell_type": "markdown",
   "id": "cb30b002-049c-4846-aea3-68131592ddf9",
   "metadata": {},
   "source": [
    "### Exercise 59:\n",
    "Compute the Frobenius norm of a matrix.\n",
    "\n",
    "```python\n",
    "# Exercise 59\n",
    "```"
   ]
  },
  {
   "cell_type": "markdown",
   "id": "2161c3b2-69bc-44a4-943b-9169350f8327",
   "metadata": {},
   "source": [
    "---"
   ]
  },
  {
   "cell_type": "markdown",
   "id": "f619a2eb-15fa-4d83-b361-044a7af10a15",
   "metadata": {},
   "source": [
    "### Exercise 60:\n",
    "Create a 3D NumPy array and slice out a subarray.\n",
    "\n",
    "```python\n",
    "# Exercise 60\n",
    "```\n",
    "\n",
    "---"
   ]
  }
 ],
 "metadata": {
  "kernelspec": {
   "display_name": "Python 3 (ipykernel)",
   "language": "python",
   "name": "python3"
  },
  "language_info": {
   "codemirror_mode": {
    "name": "ipython",
    "version": 3
   },
   "file_extension": ".py",
   "mimetype": "text/x-python",
   "name": "python",
   "nbconvert_exporter": "python",
   "pygments_lexer": "ipython3",
   "version": "3.12.4"
  }
 },
 "nbformat": 4,
 "nbformat_minor": 5
}
