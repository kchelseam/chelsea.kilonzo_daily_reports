{
 "cells": [
  {
   "cell_type": "markdown",
   "id": "04e2cc26-3366-4989-8a3b-fd5756143d07",
   "metadata": {},
   "source": [
    "## SUMMATIONS AND PRODUCTS"
   ]
  },
  {
   "cell_type": "markdown",
   "id": "86dda85d-73ed-4fb6-94c3-a738d50fd959",
   "metadata": {},
   "source": [
    "**Question 1**"
   ]
  },
  {
   "cell_type": "code",
   "execution_count": null,
   "id": "ebaf72ff-6414-4ba6-8616-e92fe093c45a",
   "metadata": {},
   "outputs": [],
   "source": []
  },
  {
   "cell_type": "code",
   "execution_count": null,
   "id": "f24c0549-9e7e-4f8f-9817-87eda1b1c177",
   "metadata": {},
   "outputs": [],
   "source": []
  },
  {
   "cell_type": "markdown",
   "id": "a352480a-a492-4449-a736-b75251cf9235",
   "metadata": {},
   "source": [
    "**Question 2**"
   ]
  },
  {
   "cell_type": "code",
   "execution_count": 179,
   "id": "e0c7c8e3-d64d-4b73-a32b-d918a7bb8cf9",
   "metadata": {},
   "outputs": [
    {
     "name": "stdin",
     "output_type": "stream",
     "text": [
      "Enter a number from 0 to 6 : -3\n"
     ]
    },
    {
     "name": "stdout",
     "output_type": "stream",
     "text": [
      "Friday\n"
     ]
    }
   ],
   "source": [
    "day_of_week = ['Monday', 'Tuesday', 'Wednesday', 'Thursday', 'Friday', 'Saturday', 'Sunday']\n",
    "\n",
    "i = int(input(\"Enter a number from 0 to 6 :\"))\n",
    "\n",
    "if (i < 7) :\n",
    "    if (i <= 4) :\n",
    "        print(day_of_week[i])\n",
    "    elif (i < 0) :\n",
    "        print('You entered a negative number. Please enter a number between 0 and 6')\n",
    "    else :\n",
    "        print('Weekend')\n",
    "else :\n",
    "    print('The number is greater than 6. Enter a number between 0 and 6')"
   ]
  },
  {
   "cell_type": "markdown",
   "id": "e32db49e-2c10-4b97-bbc7-6bd98af4e58a",
   "metadata": {},
   "source": [
    "**Question 3**"
   ]
  },
  {
   "cell_type": "code",
   "execution_count": 95,
   "id": "49d15566-b912-49fb-9fa6-4e4827aea407",
   "metadata": {},
   "outputs": [
    {
     "name": "stdin",
     "output_type": "stream",
     "text": [
      "Enter a number from 0 to 11 1\n"
     ]
    },
    {
     "name": "stdout",
     "output_type": "stream",
     "text": [
      "The month is February. It has 28 days\n"
     ]
    }
   ],
   "source": [
    "months_of_year = ['January', 'February', 'March', 'April', 'May', 'June', 'July', 'August', 'September', 'October', 'November', 'December']\n",
    "\n",
    "i = int(input(\"Enter a number from 0 to 11\"))\n",
    "\n",
    "x = \"28\"\n",
    "y = \"30\"\n",
    "z = \"31\"\n",
    "\n",
    "\n",
    "if (i <= 11) :\n",
    "    if (i <= 6) :\n",
    "        if (i == 1) :\n",
    "            print(\"The month is February\" + \". It has \" + x + \" \" + \"days\")\n",
    "        elif (i % 2 != 0 ) :\n",
    "            print(\"The month is\" + \" \" + months_of_year[i] + \". It has \" + y + \" \" + \"days\")\n",
    "        else :\n",
    "            print(\"The month is\" + \" \" + months_of_year[i] + \". It has \" + z + \" \" + \"days\")\n",
    "    else :\n",
    "        if (i % 2 != 0 ) :\n",
    "            print(\"The month is\" + \" \" + months_of_year[i] + \". It has \" + z + \" \" + \"days\")\n",
    "        else :\n",
    "            print(\"The month is\" + \" \" + months_of_year[i] + \". It has \" + y + \" \" + \"days\")\n",
    "            \n",
    "else :\n",
    "    print('The number is greater than 11. Enter a number between 0 and 11')\n",
    "    \n",
    "            \n"
   ]
  },
  {
   "cell_type": "markdown",
   "id": "450994e2-fb66-4a3b-8a1f-cd283c783d75",
   "metadata": {},
   "source": [
    "**Question 4**"
   ]
  },
  {
   "cell_type": "code",
   "execution_count": 119,
   "id": "00d443ea-ec65-420d-9387-f06e06cdd17d",
   "metadata": {},
   "outputs": [
    {
     "name": "stdin",
     "output_type": "stream",
     "text": [
      "Enter your name : Chelsea Kilonzo\n"
     ]
    }
   ],
   "source": [
    "my_name = input('Enter your name :')\n",
    "x= range(3)"
   ]
  },
  {
   "cell_type": "code",
   "execution_count": 147,
   "id": "435b8f11-e4b0-4c19-b347-0d9b9774e93f",
   "metadata": {},
   "outputs": [
    {
     "name": "stdout",
     "output_type": "stream",
     "text": [
      "Chelsea Kilonzo\n",
      "Chelsea Kilonzo\n",
      "Chelsea Kilonzo\n"
     ]
    }
   ],
   "source": [
    "#For loop\n",
    "for  i in x:\n",
    "    print(my_name)\n"
   ]
  },
  {
   "cell_type": "code",
   "execution_count": 143,
   "id": "de709e0c-d6d3-4b79-be37-a2395f4e1fae",
   "metadata": {},
   "outputs": [
    {
     "name": "stdout",
     "output_type": "stream",
     "text": [
      "Chelsea Kilonzo\n",
      "Chelsea Kilonzo\n",
      "Chelsea Kilonzo\n"
     ]
    }
   ],
   "source": [
    "#While loop\n",
    "for i in x :\n",
    "    while i < max(x) :\n",
    "        print(my_name)\n",
    "        i = i + 1"
   ]
  },
  {
   "cell_type": "markdown",
   "id": "0922c93b-226d-4352-8e4d-6d9efe07d92e",
   "metadata": {},
   "source": [
    "**Question 5**"
   ]
  },
  {
   "cell_type": "code",
   "execution_count": null,
   "id": "f8874ee4-c397-405d-a6d6-eeead8c253d8",
   "metadata": {},
   "outputs": [],
   "source": [
    "a = int(input(\"Enter the first term of the fibonacci sequence: \"))\n",
    "b = int(input(\"Enter the second term of the fibonacci sequence: \"))\n",
    "\n"
   ]
  },
  {
   "cell_type": "markdown",
   "id": "3dc3f159-c39d-4ff0-afe1-1ae69811503c",
   "metadata": {},
   "source": [
    "**Question 6**"
   ]
  },
  {
   "cell_type": "code",
   "execution_count": 151,
   "id": "69b138fb-0917-4305-953b-6cf7621f0226",
   "metadata": {},
   "outputs": [],
   "source": [
    "#Dont get the question\n",
    "\n",
    "# x = range(30)\n",
    "\n",
    "# x0 = 1\n",
    "# x1 = 2\n",
    "\n",
    "# for i in x :\n",
    "#     while i < max(x) :\n",
    "#         eqn = (2 * (i + 2)) - (i + 1) - (6 * i)\n",
    "        \n",
    "    \n"
   ]
  },
  {
   "cell_type": "markdown",
   "id": "50180bc6-51b5-431b-93b8-05fa613a8a44",
   "metadata": {},
   "source": [
    "**Question 7**"
   ]
  },
  {
   "cell_type": "code",
   "execution_count": null,
   "id": "ab452ce8-6226-4655-b930-f36a5c05e1dd",
   "metadata": {},
   "outputs": [],
   "source": []
  },
  {
   "cell_type": "markdown",
   "id": "931d162e-199e-4d97-921e-394c59fd4fc9",
   "metadata": {},
   "source": [
    "**Question 8, 9**"
   ]
  },
  {
   "cell_type": "code",
   "execution_count": null,
   "id": "89d7a4d2-0059-4815-bd9b-c6fb8bfe09b5",
   "metadata": {},
   "outputs": [],
   "source": []
  },
  {
   "cell_type": "markdown",
   "id": "9dc5a8bb-52c4-46e4-b4f4-458467af4150",
   "metadata": {},
   "source": [
    "**Question 10**"
   ]
  },
  {
   "cell_type": "code",
   "execution_count": 233,
   "id": "d784a1f7-d716-435a-93dc-ed0179e25737",
   "metadata": {},
   "outputs": [
    {
     "name": "stdin",
     "output_type": "stream",
     "text": [
      "Enter a number between 0 and 9 : 3\n",
      "Enter the length of the multiplication table: 10\n"
     ]
    },
    {
     "name": "stdout",
     "output_type": "stream",
     "text": [
      "The multiplication table of 3 up to 10 is: \n",
      "3 x 0 = 0\n",
      "3 x 1 = 3\n",
      "3 x 2 = 6\n",
      "3 x 3 = 9\n",
      "3 x 4 = 12\n",
      "3 x 5 = 15\n",
      "3 x 6 = 18\n",
      "3 x 7 = 21\n",
      "3 x 8 = 24\n",
      "3 x 9 = 27\n"
     ]
    }
   ],
   "source": [
    "a = int(input(\"Enter a number between 0 and 9 :\"))\n",
    "n = int(input(\"Enter the length of the multiplication table:\"))\n",
    "print(\"The multiplication table of \" + str(a) + \" up to \" + str(n) + \" is: \")\n",
    "\n",
    "n = range(n + 1)\n",
    "i = 0\n",
    "\n",
    "if (a > 9) :\n",
    "    print(\"Error! The number is greater than 9\")\n",
    "elif (a < 0) :\n",
    "    print(\"Error! The number is negative\")\n",
    "    #break\n",
    "\n",
    "\n",
    "while (i < max(n)) :\n",
    "    mult = a * i\n",
    "    print(str(a) + \" x \" + str(i) + \" = \" + str(mult))\n",
    "    i = i + 1   "
   ]
  },
  {
   "cell_type": "code",
   "execution_count": null,
   "id": "b300498d-1e01-4d7a-98f3-ff89948a6a5d",
   "metadata": {},
   "outputs": [],
   "source": []
  },
  {
   "cell_type": "markdown",
   "id": "0ae3d5a3-f0e1-4b6e-be96-c387fc244485",
   "metadata": {},
   "source": [
    "**Question 11**"
   ]
  },
  {
   "cell_type": "code",
   "execution_count": null,
   "id": "bcbcc5d4-5323-4ac6-8764-8e2a437310c8",
   "metadata": {},
   "outputs": [],
   "source": [
    "x = range(40)\n",
    "c = 0\n",
    "\n",
    "for  i in x :\n",
    "    while (i % 3 == 0) :\n",
    "        three = []\n",
    "        three.insert(c, i)\n",
    "        c = int(c) + 1\n",
    "    # while (i % 7 == 0) :\n",
    "    #     seven = []\n",
    "    #     seven.insert(x[i],i)\n",
    "    # while (i % 11 == 0) :\n",
    "    #     eleven = []\n",
    "    #     eleven.insert(x[i],i)\n",
    "        \n",
    "print(\"The numbers divisible by 3 are: \")\n",
    "print(three)\n",
    "print('=====================================/n')\n",
    "\n",
    "print(\"The numbers divisible by 7 are: \")\n",
    "print(seven)\n",
    "print('=====================================/n')\n",
    "\n",
    "print(\"The numbers divisible by 11 are: \")\n",
    "print(eleven)\n",
    "print('=====================================/n')"
   ]
  },
  {
   "cell_type": "code",
   "execution_count": 323,
   "id": "cc70f642-d1c9-4758-afba-c172fb82df8f",
   "metadata": {},
   "outputs": [
    {
     "data": {
      "text/plain": [
       "[1, 2]"
      ]
     },
     "execution_count": 323,
     "metadata": {},
     "output_type": "execute_result"
    }
   ],
   "source": [
    "three = []\n",
    "three.insert(0, 1)\n",
    "three.insert(1, 2)\n",
    "three"
   ]
  },
  {
   "cell_type": "markdown",
   "id": "49445d91-6409-411d-940d-b99b750e5727",
   "metadata": {},
   "source": [
    "**Question 12**"
   ]
  },
  {
   "cell_type": "code",
   "execution_count": 255,
   "id": "118a6d79-19bf-403c-85ca-2c464bebb4fb",
   "metadata": {},
   "outputs": [
    {
     "name": "stdin",
     "output_type": "stream",
     "text": [
      "Enter a number:  3\n"
     ]
    },
    {
     "name": "stdout",
     "output_type": "stream",
     "text": [
      "The floor of 3.0 is 3\n"
     ]
    }
   ],
   "source": [
    "import math\n",
    "x = float(input(\"Enter a number: \"))\n",
    "y = math.floor(x)\n",
    "print(\"The floor of \" + str(x) + \" is \" + str(y))\n"
   ]
  },
  {
   "cell_type": "code",
   "execution_count": null,
   "id": "f92ae48d-5970-42fe-85cf-0dec42398d67",
   "metadata": {},
   "outputs": [],
   "source": []
  }
 ],
 "metadata": {
  "kernelspec": {
   "display_name": "Python 3 (ipykernel)",
   "language": "python",
   "name": "python3"
  },
  "language_info": {
   "codemirror_mode": {
    "name": "ipython",
    "version": 3
   },
   "file_extension": ".py",
   "mimetype": "text/x-python",
   "name": "python",
   "nbconvert_exporter": "python",
   "pygments_lexer": "ipython3",
   "version": "3.12.4"
  }
 },
 "nbformat": 4,
 "nbformat_minor": 5
}
